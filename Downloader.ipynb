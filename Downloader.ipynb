{
  "nbformat": 4,
  "nbformat_minor": 0,
  "metadata": {
    "colab": {
      "provenance": [],
      "authorship_tag": "ABX9TyPaYXSJzTq7X89oRSvEcNuQ",
      "include_colab_link": true
    },
    "kernelspec": {
      "name": "python3",
      "display_name": "Python 3"
    },
    "language_info": {
      "name": "python"
    }
  },
  "cells": [
    {
      "cell_type": "markdown",
      "metadata": {
        "id": "view-in-github",
        "colab_type": "text"
      },
      "source": [
        "<a href=\"https://colab.research.google.com/github/istiakm30/File-Downloader/blob/main/Downloader.ipynb\" target=\"_parent\"><img src=\"https://colab.research.google.com/assets/colab-badge.svg\" alt=\"Open In Colab\"/></a>"
      ]
    },
    {
      "cell_type": "code",
      "execution_count": null,
      "metadata": {
        "cellView": "form",
        "id": "0_C-gf_5OKLY"
      },
      "outputs": [],
      "source": [
        "#@title Download the file\n",
        "\n",
        "# Import necessary libraries\n",
        "import requests\n",
        "from tqdm.notebook import tqdm\n",
        "from google.colab import files\n",
        "import re\n",
        "\n",
        "# Create a GUI to input the URL\n",
        "download_link = '' #@param {type:\"string\"}\n",
        "\n",
        "# Get the file size\n",
        "response = requests.get(download_link, stream=True)\n",
        "total_size = int(response.headers.get('content-length', 0))\n",
        "\n",
        "# Extract the filename from the Content-Disposition header\n",
        "d = response.headers['content-disposition']\n",
        "filename = re.findall(\"filename=(.+)\", d)[0]\n",
        "\n",
        "# Initialize a progress bar\n",
        "progress_bar = tqdm(total=total_size, unit='iB', unit_scale=True)\n",
        "\n",
        "# Download the file with progress updates\n",
        "with open(filename, 'wb') as file:\n",
        "    for data in response.iter_content(chunk_size=1024):\n",
        "        progress_bar.update(len(data))\n",
        "        file.write(data)\n",
        "\n",
        "progress_bar.close()\n",
        "\n",
        "if total_size != 0 and progress_bar.n != total_size:\n",
        "    print(\"ERROR: something went wrong with the download.\")\n",
        "else:\n",
        "    print(f\"{filename} downloaded successfully.\")\n",
        "\n",
        "# Create a download link in Colab\n",
        "files.download(filename)\n"
      ]
    },
    {
      "cell_type": "code",
      "source": [
        "#@title Move the file to google drive's \"Downloaded\" folder\n",
        "from google.colab import drive\n",
        "import shutil\n",
        "import os\n",
        "\n",
        "# Mount Google Drive\n",
        "drive.mount('/content/gdrive')\n",
        "\n",
        "# Path to the folder where you want to save the file in your Google Drive\n",
        "destination_folder = \"/content/gdrive/MyDrive/Downloaded/\"\n",
        "\n",
        "# Ensure the folder exists\n",
        "os.makedirs(destination_folder, exist_ok=True)\n",
        "\n",
        "# Move the downloaded file to the Google Drive folder\n",
        "shutil.move(filename, destination_folder + filename)\n",
        "\n",
        "print(f\"{filename} copied successfully to {destination_folder}\")\n",
        "print(\"File has been copied to the 'Downloaded' folder in your Google Drive.\")\n",
        "print(\"Please navigate to this folder in your Google Drive and create a shareable link if you wish to share access.\")"
      ],
      "metadata": {
        "cellView": "form",
        "id": "bEOnRHXuSjsf"
      },
      "execution_count": null,
      "outputs": []
    }
  ]
}